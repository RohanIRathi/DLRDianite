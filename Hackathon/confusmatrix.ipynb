{
 "cells": [
  {
   "cell_type": "code",
   "execution_count": 20,
   "metadata": {},
   "outputs": [],
   "source": [
    "import pandas as pd\n",
    "from sklearn.datasets import load_iris\n",
    "from sklearn.model_selection import train_test_split"
   ]
  },
  {
   "cell_type": "code",
   "execution_count": 21,
   "metadata": {},
   "outputs": [
    {
     "data": {
      "text/html": [
       "<div>\n",
       "<style scoped>\n",
       "    .dataframe tbody tr th:only-of-type {\n",
       "        vertical-align: middle;\n",
       "    }\n",
       "\n",
       "    .dataframe tbody tr th {\n",
       "        vertical-align: top;\n",
       "    }\n",
       "\n",
       "    .dataframe thead th {\n",
       "        text-align: right;\n",
       "    }\n",
       "</style>\n",
       "<table border=\"1\" class=\"dataframe\">\n",
       "  <thead>\n",
       "    <tr style=\"text-align: right;\">\n",
       "      <th></th>\n",
       "      <th>Year</th>\n",
       "      <th>PADDY</th>\n",
       "      <th>JOWAR</th>\n",
       "      <th>BAJRA</th>\n",
       "      <th>MAIZE</th>\n",
       "      <th>RAGI</th>\n",
       "      <th>msptur</th>\n",
       "      <th>MOONG</th>\n",
       "      <th>URAD</th>\n",
       "      <th>COTTON</th>\n",
       "      <th>...</th>\n",
       "      <th>Banana (000 tonnes)</th>\n",
       "      <th>Sugarcane (000 tonnes)</th>\n",
       "      <th>Tobacco (000 tonnes)</th>\n",
       "      <th>Potatoes (000 tonnes)</th>\n",
       "      <th>Black Pepper (000 tonnes)</th>\n",
       "      <th>Chillies (000 tonnes)</th>\n",
       "      <th>Ginger (000 tonnes)</th>\n",
       "      <th>Coconut (000 tonnes)</th>\n",
       "      <th>Turmeric (000 tonnes)</th>\n",
       "      <th>Area in 0000ha</th>\n",
       "    </tr>\n",
       "  </thead>\n",
       "  <tbody>\n",
       "    <tr>\n",
       "      <th>0</th>\n",
       "      <td>2001</td>\n",
       "      <td>510</td>\n",
       "      <td>445.0</td>\n",
       "      <td>445</td>\n",
       "      <td>445</td>\n",
       "      <td>445</td>\n",
       "      <td>1200</td>\n",
       "      <td>1200</td>\n",
       "      <td>1200</td>\n",
       "      <td>1625</td>\n",
       "      <td>...</td>\n",
       "      <td>13160.0</td>\n",
       "      <td>297208.0</td>\n",
       "      <td>546.0</td>\n",
       "      <td>23924.0</td>\n",
       "      <td>62.0</td>\n",
       "      <td>1069.0</td>\n",
       "      <td>322.0</td>\n",
       "      <td>12963.0</td>\n",
       "      <td>563.0</td>\n",
       "      <td>3306.12</td>\n",
       "    </tr>\n",
       "    <tr>\n",
       "      <th>1</th>\n",
       "      <td>2002</td>\n",
       "      <td>530</td>\n",
       "      <td>485.0</td>\n",
       "      <td>485</td>\n",
       "      <td>485</td>\n",
       "      <td>485</td>\n",
       "      <td>1320</td>\n",
       "      <td>1320</td>\n",
       "      <td>1320</td>\n",
       "      <td>1675</td>\n",
       "      <td>...</td>\n",
       "      <td>11975.0</td>\n",
       "      <td>287383.0</td>\n",
       "      <td>500.0</td>\n",
       "      <td>23269.0</td>\n",
       "      <td>72.0</td>\n",
       "      <td>895.0</td>\n",
       "      <td>280.0</td>\n",
       "      <td>12535.0</td>\n",
       "      <td>522.0</td>\n",
       "      <td>2964.76</td>\n",
       "    </tr>\n",
       "    <tr>\n",
       "      <th>2</th>\n",
       "      <td>2003</td>\n",
       "      <td>550</td>\n",
       "      <td>490.0</td>\n",
       "      <td>495</td>\n",
       "      <td>490</td>\n",
       "      <td>490</td>\n",
       "      <td>1325</td>\n",
       "      <td>1335</td>\n",
       "      <td>1335</td>\n",
       "      <td>1695</td>\n",
       "      <td>...</td>\n",
       "      <td>11388.0</td>\n",
       "      <td>233862.0</td>\n",
       "      <td>550.0</td>\n",
       "      <td>23060.0</td>\n",
       "      <td>73.0</td>\n",
       "      <td>1236.0</td>\n",
       "      <td>302.0</td>\n",
       "      <td>12178.0</td>\n",
       "      <td>565.0</td>\n",
       "      <td>3439.89</td>\n",
       "    </tr>\n",
       "    <tr>\n",
       "      <th>3</th>\n",
       "      <td>2004</td>\n",
       "      <td>550</td>\n",
       "      <td>505.0</td>\n",
       "      <td>505</td>\n",
       "      <td>505</td>\n",
       "      <td>505</td>\n",
       "      <td>1360</td>\n",
       "      <td>1370</td>\n",
       "      <td>1370</td>\n",
       "      <td>1725</td>\n",
       "      <td>...</td>\n",
       "      <td>11710.0</td>\n",
       "      <td>237088.0</td>\n",
       "      <td>549.0</td>\n",
       "      <td>23631.0</td>\n",
       "      <td>73.0</td>\n",
       "      <td>1186.0</td>\n",
       "      <td>359.0</td>\n",
       "      <td>12833.0</td>\n",
       "      <td>718.0</td>\n",
       "      <td>2912.10</td>\n",
       "    </tr>\n",
       "    <tr>\n",
       "      <th>4</th>\n",
       "      <td>2005</td>\n",
       "      <td>560</td>\n",
       "      <td>515.0</td>\n",
       "      <td>515</td>\n",
       "      <td>525</td>\n",
       "      <td>515</td>\n",
       "      <td>1390</td>\n",
       "      <td>1410</td>\n",
       "      <td>1410</td>\n",
       "      <td>1760</td>\n",
       "      <td>...</td>\n",
       "      <td>12105.0</td>\n",
       "      <td>281172.0</td>\n",
       "      <td>552.0</td>\n",
       "      <td>23905.0</td>\n",
       "      <td>93.0</td>\n",
       "      <td>1015.0</td>\n",
       "      <td>391.0</td>\n",
       "      <td>14811.0</td>\n",
       "      <td>852.0</td>\n",
       "      <td>2875.33</td>\n",
       "    </tr>\n",
       "  </tbody>\n",
       "</table>\n",
       "<p>5 rows × 64 columns</p>\n",
       "</div>"
      ],
      "text/plain": [
       "   Year  PADDY  JOWAR  BAJRA  MAIZE  RAGI  msptur  MOONG  URAD  COTTON  \\\n",
       "0  2001    510  445.0    445    445   445    1200   1200  1200    1625   \n",
       "1  2002    530  485.0    485    485   485    1320   1320  1320    1675   \n",
       "2  2003    550  490.0    495    490   490    1325   1335  1335    1695   \n",
       "3  2004    550  505.0    505    505   505    1360   1370  1370    1725   \n",
       "4  2005    560  515.0    515    525   515    1390   1410  1410    1760   \n",
       "\n",
       "        ...        Banana (000 tonnes)  Sugarcane (000 tonnes)  \\\n",
       "0       ...                    13160.0                297208.0   \n",
       "1       ...                    11975.0                287383.0   \n",
       "2       ...                    11388.0                233862.0   \n",
       "3       ...                    11710.0                237088.0   \n",
       "4       ...                    12105.0                281172.0   \n",
       "\n",
       "   Tobacco (000 tonnes)  Potatoes (000 tonnes)  Black Pepper (000 tonnes)  \\\n",
       "0                 546.0                23924.0                       62.0   \n",
       "1                 500.0                23269.0                       72.0   \n",
       "2                 550.0                23060.0                       73.0   \n",
       "3                 549.0                23631.0                       73.0   \n",
       "4                 552.0                23905.0                       93.0   \n",
       "\n",
       "   Chillies (000 tonnes)  Ginger (000 tonnes)  Coconut (000 tonnes)  \\\n",
       "0                 1069.0                322.0               12963.0   \n",
       "1                  895.0                280.0               12535.0   \n",
       "2                 1236.0                302.0               12178.0   \n",
       "3                 1186.0                359.0               12833.0   \n",
       "4                 1015.0                391.0               14811.0   \n",
       "\n",
       "   Turmeric (000 tonnes)  Area in 0000ha  \n",
       "0                  563.0         3306.12  \n",
       "1                  522.0         2964.76  \n",
       "2                  565.0         3439.89  \n",
       "3                  718.0         2912.10  \n",
       "4                  852.0         2875.33  \n",
       "\n",
       "[5 rows x 64 columns]"
      ]
     },
     "execution_count": 21,
     "metadata": {},
     "output_type": "execute_result"
    }
   ],
   "source": [
    "data=pd.read_csv('Data/all.csv')\n",
    "data.head()"
   ]
  },
  {
   "cell_type": "code",
   "execution_count": 22,
   "metadata": {},
   "outputs": [],
   "source": [
    "y=data.msptur\n",
    "def keep_cols(DataFrame, keep_these):\n",
    "    \"\"\"Keep only the columns [keep_these] in a DataFrame, delete\n",
    "    all other columns. \n",
    "    \"\"\"\n",
    "    drop_these = list(set(list(DataFrame)) - set(keep_these))\n",
    "    return DataFrame.drop(drop_these, axis = 1)\n",
    "\n",
    "x = data.pipe(keep_cols, ['Food Grains (Pulses) - Tur (000 tonnes)', 'Area'])"
   ]
  },
  {
   "cell_type": "code",
   "execution_count": 23,
   "metadata": {},
   "outputs": [],
   "source": [
    "#x_train,x_test,y_train,y_test=train_test_split(x,y,test_size=0.2)\n",
    "#x_train.head()"
   ]
  },
  {
   "cell_type": "code",
   "execution_count": 24,
   "metadata": {},
   "outputs": [],
   "source": [
    "#x_train.shape"
   ]
  },
  {
   "cell_type": "code",
   "execution_count": 25,
   "metadata": {},
   "outputs": [],
   "source": [
    "#x_test.head()"
   ]
  },
  {
   "cell_type": "code",
   "execution_count": 26,
   "metadata": {},
   "outputs": [],
   "source": [
    "#x_test.shape"
   ]
  },
  {
   "cell_type": "code",
   "execution_count": 27,
   "metadata": {},
   "outputs": [
    {
     "data": {
      "text/plain": [
       "array([1, 2, 2, 1, 0, 2, 1, 0, 0, 1, 2, 0, 1, 2, 2, 2, 0, 0, 1, 0, 0, 2,\n",
       "       0, 2, 0, 0, 0, 2, 2, 0])"
      ]
     },
     "execution_count": 27,
     "metadata": {},
     "output_type": "execute_result"
    }
   ],
   "source": [
    "iris=load_iris()\n",
    "x,y=iris.data,iris.target\n",
    "x_train,x_test,y_train,y_test=train_test_split(x,y,\n",
    "test_size=0.2,\n",
    "random_state=123)\n",
    "y_test"
   ]
  },
  {
   "cell_type": "code",
   "execution_count": 28,
   "metadata": {},
   "outputs": [
    {
     "data": {
      "text/plain": [
       "<Figure size 640x480 with 1 Axes>"
      ]
     },
     "metadata": {},
     "output_type": "display_data"
    },
    {
     "name": "stdout",
     "output_type": "stream",
     "text": [
      "[ 1.  2.  2.  1. -0.  2.  1. -0.  0.  1.  2. -0.  1.  2.  2.  2. -0. -0.\n",
      "  1.  0. -0.  1.  0.  2. -0. -0.  0.  2.  2. -0.]\n",
      "30\n",
      "[1 2 2 1 0 2 1 0 0 1 2 0 1 2 2 2 0 0 1 0 0 2 0 2 0 0 0 2 2 0]\n",
      "30\n",
      "<class 'numpy.ndarray'>\n",
      "<class 'numpy.ndarray'>\n"
     ]
    }
   ],
   "source": [
    "from sklearn.linear_model import LinearRegression, LogisticRegression\n",
    "model=LinearRegression()\n",
    "model.fit(x_train,y_train)\n",
    "predictions=model.predict(x_test)\n",
    "for i in range(len(predictions)):\n",
    "    predictions[i]=round(predictions[i])\n",
    "import matplotlib.pyplot as plt\n",
    "plt.scatter(y_test,predictions)\n",
    "plt.show()\n",
    "print(predictions)\n",
    "print(len(predictions))\n",
    "print(y_test)\n",
    "print(len(y_test))\n",
    "print(type(predictions))\n",
    "print(type(y_test))"
   ]
  },
  {
   "cell_type": "code",
   "execution_count": 29,
   "metadata": {},
   "outputs": [
    {
     "name": "stdout",
     "output_type": "stream",
     "text": [
      "[[13  0  0]\n",
      " [ 0  6  0]\n",
      " [ 0  1 10]]\n",
      "0.9666666666666667\n",
      "              precision    recall  f1-score   support\n",
      "\n",
      "           0       1.00      1.00      1.00        13\n",
      "           1       0.86      1.00      0.92         6\n",
      "           2       1.00      0.91      0.95        11\n",
      "\n",
      "   micro avg       0.97      0.97      0.97        30\n",
      "   macro avg       0.95      0.97      0.96        30\n",
      "weighted avg       0.97      0.97      0.97        30\n",
      "\n"
     ]
    }
   ],
   "source": [
    "from sklearn.metrics import confusion_matrix\n",
    "from sklearn.metrics import accuracy_score\n",
    "from sklearn.metrics import classification_report as cr\n",
    "from sklearn import metrics as ms\n",
    "results=confusion_matrix(list(y_test),list(predictions))\n",
    "print(results)\n",
    "print(ms.accuracy_score(y_test,predictions))\n",
    "print(cr(y_test,predictions))"
   ]
  },
  {
   "cell_type": "code",
   "execution_count": 31,
   "metadata": {},
   "outputs": [
    {
     "name": "stderr",
     "output_type": "stream",
     "text": [
      "C:\\Users\\admin\\Anaconda3\\lib\\site-packages\\sklearn\\linear_model\\logistic.py:433: FutureWarning: Default solver will be changed to 'lbfgs' in 0.22. Specify a solver to silence this warning.\n",
      "  FutureWarning)\n",
      "C:\\Users\\admin\\Anaconda3\\lib\\site-packages\\sklearn\\linear_model\\logistic.py:460: FutureWarning: Default multi_class will be changed to 'auto' in 0.22. Specify the multi_class option to silence this warning.\n",
      "  \"this warning.\", FutureWarning)\n"
     ]
    }
   ],
   "source": [
    "import pickle\n",
    "model = LogisticRegression()\n",
    "model.fit(x_train, y_train)\n",
    "filename='finalized.pickle'\n",
    "pickle.dump(model,open(filename,'wb'))"
   ]
  },
  {
   "cell_type": "code",
   "execution_count": null,
   "metadata": {},
   "outputs": [],
   "source": []
  }
 ],
 "metadata": {
  "kernelspec": {
   "display_name": "Python 3",
   "language": "python",
   "name": "python3"
  },
  "language_info": {
   "codemirror_mode": {
    "name": "ipython",
    "version": 3
   },
   "file_extension": ".py",
   "mimetype": "text/x-python",
   "name": "python",
   "nbconvert_exporter": "python",
   "pygments_lexer": "ipython3",
   "version": "3.7.1"
  }
 },
 "nbformat": 4,
 "nbformat_minor": 2
}
